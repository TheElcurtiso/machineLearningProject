{
 "cells": [
  {
   "cell_type": "code",
   "execution_count": 211,
   "id": "initial_id",
   "metadata": {
    "collapsed": true,
    "ExecuteTime": {
     "end_time": "2024-01-04T13:10:51.623030Z",
     "start_time": "2024-01-04T13:10:51.465991Z"
    }
   },
   "outputs": [],
   "source": [
    "import pandas as pd\n",
    "# reading in the csv\n",
    "global_temperature_statistics = pd.read_csv(\"datasets/Global/GlobalLandTemperaturesByCountry.csv\").copy()\n",
    "global_economy_statistics = pd.read_csv(\"datasets/Global/Global Economy Indicators.csv\").copy()"
   ]
  },
  {
   "cell_type": "code",
   "execution_count": 212,
   "outputs": [],
   "source": [
    "global_temperature_statistics['AverageTemperature'] = global_temperature_statistics['AverageTemperature'].fillna(0)\n",
    "global_economy_statistics = global_economy_statistics[global_economy_statistics[\"Year\"].astype(float) < 2013]\n",
    "global_economy_statistics['Country'] = global_economy_statistics['Country'].apply(lambda x: x.strip())"
   ],
   "metadata": {
    "collapsed": false,
    "ExecuteTime": {
     "end_time": "2024-01-04T13:10:51.629480Z",
     "start_time": "2024-01-04T13:10:51.623961Z"
    }
   },
   "id": "e012340e45bd3f1b"
  },
  {
   "cell_type": "code",
   "execution_count": 213,
   "outputs": [],
   "source": [
    "# was trying to figure out for a while why 2013 wasn't included in the refined dataset and its because the dataset hadn't recorded 12 months of 2013 (dataset ends at September 2013) so I'm going to do up to the end of 2012\n",
    "average_year_temperature = 0\n",
    "year_column = []\n",
    "temperature_column = []\n",
    "country_column = []\n",
    "for index, row in global_temperature_statistics.iterrows():\n",
    "    date = row['dt']\n",
    "    month = int(date[5:7])\n",
    "    year = int(date[:4])\n",
    "    average_monthly_temperature = float(row['AverageTemperature'])\n",
    "    country = row[\"Country\"]\n",
    "    if year < 1970:\n",
    "        continue\n",
    "    average_year_temperature += average_monthly_temperature\n",
    "    if month == 12:\n",
    "        year_column.append(year)\n",
    "        temperature_column.append(average_year_temperature / 12)\n",
    "        country_column.append(row[\"Country\"])\n",
    "        average_year_temperature = 0"
   ],
   "metadata": {
    "collapsed": false,
    "ExecuteTime": {
     "end_time": "2024-01-04T13:11:01.928246Z",
     "start_time": "2024-01-04T13:10:51.630940Z"
    }
   },
   "id": "77f64fe841c9a9d"
  },
  {
   "cell_type": "code",
   "execution_count": 214,
   "outputs": [
    {
     "data": {
      "text/plain": "       Year  Yearly Average Temperature   Country\n0      1970                    4.442833     Åland\n1      1971                    5.623750     Åland\n2      1972                    6.358333     Åland\n3      1973                    6.198083     Åland\n4      1974                    6.766917     Åland\n...     ...                         ...       ...\n10444  2008                   21.545583  Zimbabwe\n10445  2009                   21.377250  Zimbabwe\n10446  2010                   21.986250  Zimbabwe\n10447  2011                   21.602417  Zimbabwe\n10448  2012                   21.521333  Zimbabwe\n\n[10449 rows x 3 columns]",
      "text/html": "<div>\n<style scoped>\n    .dataframe tbody tr th:only-of-type {\n        vertical-align: middle;\n    }\n\n    .dataframe tbody tr th {\n        vertical-align: top;\n    }\n\n    .dataframe thead th {\n        text-align: right;\n    }\n</style>\n<table border=\"1\" class=\"dataframe\">\n  <thead>\n    <tr style=\"text-align: right;\">\n      <th></th>\n      <th>Year</th>\n      <th>Yearly Average Temperature</th>\n      <th>Country</th>\n    </tr>\n  </thead>\n  <tbody>\n    <tr>\n      <th>0</th>\n      <td>1970</td>\n      <td>4.442833</td>\n      <td>Åland</td>\n    </tr>\n    <tr>\n      <th>1</th>\n      <td>1971</td>\n      <td>5.623750</td>\n      <td>Åland</td>\n    </tr>\n    <tr>\n      <th>2</th>\n      <td>1972</td>\n      <td>6.358333</td>\n      <td>Åland</td>\n    </tr>\n    <tr>\n      <th>3</th>\n      <td>1973</td>\n      <td>6.198083</td>\n      <td>Åland</td>\n    </tr>\n    <tr>\n      <th>4</th>\n      <td>1974</td>\n      <td>6.766917</td>\n      <td>Åland</td>\n    </tr>\n    <tr>\n      <th>...</th>\n      <td>...</td>\n      <td>...</td>\n      <td>...</td>\n    </tr>\n    <tr>\n      <th>10444</th>\n      <td>2008</td>\n      <td>21.545583</td>\n      <td>Zimbabwe</td>\n    </tr>\n    <tr>\n      <th>10445</th>\n      <td>2009</td>\n      <td>21.377250</td>\n      <td>Zimbabwe</td>\n    </tr>\n    <tr>\n      <th>10446</th>\n      <td>2010</td>\n      <td>21.986250</td>\n      <td>Zimbabwe</td>\n    </tr>\n    <tr>\n      <th>10447</th>\n      <td>2011</td>\n      <td>21.602417</td>\n      <td>Zimbabwe</td>\n    </tr>\n    <tr>\n      <th>10448</th>\n      <td>2012</td>\n      <td>21.521333</td>\n      <td>Zimbabwe</td>\n    </tr>\n  </tbody>\n</table>\n<p>10449 rows × 3 columns</p>\n</div>"
     },
     "execution_count": 214,
     "metadata": {},
     "output_type": "execute_result"
    }
   ],
   "source": [
    "refined_global_temperature_data = {\"Year\" : year_column, \"Yearly Average Temperature\" : temperature_column, \"Country\" : country_column}\n",
    "refined_global_temperature_statistics = pd.DataFrame(refined_global_temperature_data)\n",
    "refined_global_temperature_statistics"
   ],
   "metadata": {
    "collapsed": false,
    "ExecuteTime": {
     "end_time": "2024-01-04T13:11:01.937155Z",
     "start_time": "2024-01-04T13:11:01.933381Z"
    }
   },
   "id": "970ebfc41e30acaf"
  },
  {
   "cell_type": "code",
   "execution_count": 215,
   "outputs": [
    {
     "data": {
      "text/plain": "      index  Year  Yearly Average Temperature      Country\n0        43  1970                   18.936250  Afghanistan\n1        44  1971                   14.823500  Afghanistan\n2        45  1972                   12.547167  Afghanistan\n3        46  1973                   14.235500  Afghanistan\n4        47  1974                   13.316750  Afghanistan\n...     ...   ...                         ...          ...\n7219  10444  2008                   21.545583     Zimbabwe\n7220  10445  2009                   21.377250     Zimbabwe\n7221  10446  2010                   21.986250     Zimbabwe\n7222  10447  2011                   21.602417     Zimbabwe\n7223  10448  2012                   21.521333     Zimbabwe\n\n[7224 rows x 4 columns]",
      "text/html": "<div>\n<style scoped>\n    .dataframe tbody tr th:only-of-type {\n        vertical-align: middle;\n    }\n\n    .dataframe tbody tr th {\n        vertical-align: top;\n    }\n\n    .dataframe thead th {\n        text-align: right;\n    }\n</style>\n<table border=\"1\" class=\"dataframe\">\n  <thead>\n    <tr style=\"text-align: right;\">\n      <th></th>\n      <th>index</th>\n      <th>Year</th>\n      <th>Yearly Average Temperature</th>\n      <th>Country</th>\n    </tr>\n  </thead>\n  <tbody>\n    <tr>\n      <th>0</th>\n      <td>43</td>\n      <td>1970</td>\n      <td>18.936250</td>\n      <td>Afghanistan</td>\n    </tr>\n    <tr>\n      <th>1</th>\n      <td>44</td>\n      <td>1971</td>\n      <td>14.823500</td>\n      <td>Afghanistan</td>\n    </tr>\n    <tr>\n      <th>2</th>\n      <td>45</td>\n      <td>1972</td>\n      <td>12.547167</td>\n      <td>Afghanistan</td>\n    </tr>\n    <tr>\n      <th>3</th>\n      <td>46</td>\n      <td>1973</td>\n      <td>14.235500</td>\n      <td>Afghanistan</td>\n    </tr>\n    <tr>\n      <th>4</th>\n      <td>47</td>\n      <td>1974</td>\n      <td>13.316750</td>\n      <td>Afghanistan</td>\n    </tr>\n    <tr>\n      <th>...</th>\n      <td>...</td>\n      <td>...</td>\n      <td>...</td>\n      <td>...</td>\n    </tr>\n    <tr>\n      <th>7219</th>\n      <td>10444</td>\n      <td>2008</td>\n      <td>21.545583</td>\n      <td>Zimbabwe</td>\n    </tr>\n    <tr>\n      <th>7220</th>\n      <td>10445</td>\n      <td>2009</td>\n      <td>21.377250</td>\n      <td>Zimbabwe</td>\n    </tr>\n    <tr>\n      <th>7221</th>\n      <td>10446</td>\n      <td>2010</td>\n      <td>21.986250</td>\n      <td>Zimbabwe</td>\n    </tr>\n    <tr>\n      <th>7222</th>\n      <td>10447</td>\n      <td>2011</td>\n      <td>21.602417</td>\n      <td>Zimbabwe</td>\n    </tr>\n    <tr>\n      <th>7223</th>\n      <td>10448</td>\n      <td>2012</td>\n      <td>21.521333</td>\n      <td>Zimbabwe</td>\n    </tr>\n  </tbody>\n</table>\n<p>7224 rows × 4 columns</p>\n</div>"
     },
     "execution_count": 215,
     "metadata": {},
     "output_type": "execute_result"
    }
   ],
   "source": [
    "countries_we_need = set(global_economy_statistics[\"Country\"].tolist())\n",
    "refined_global_temperature_statistics = refined_global_temperature_statistics[refined_global_temperature_statistics['Country'].isin(countries_we_need)]\n",
    "refined_global_temperature_statistics.reset_index()"
   ],
   "metadata": {
    "collapsed": false,
    "ExecuteTime": {
     "end_time": "2024-01-04T13:11:01.943660Z",
     "start_time": "2024-01-04T13:11:01.936089Z"
    }
   },
   "id": "4de96b6489927f9d"
  },
  {
   "cell_type": "code",
   "execution_count": 216,
   "outputs": [
    {
     "data": {
      "text/plain": "      index   CountryID       Country  Year   Gross Domestic Product (GDP)\n0         0            4  Afghanistan  1970                   1.731436e+09\n1         1            4  Afghanistan  1971                   1.812838e+09\n2         2            4  Afghanistan  1972                   1.647900e+09\n3         3            4  Afghanistan  1973                   1.702716e+09\n4         4            4  Afghanistan  1974                   2.061729e+09\n...     ...          ...          ...   ...                            ...\n8599  10498          894       Zambia  2008                   1.791105e+10\n8600  10499          894       Zambia  2009                   1.532830e+10\n8601  10500          894       Zambia  2010                   2.026540e+10\n8602  10501          894       Zambia  2011                   2.448759e+10\n8603  10502          894       Zambia  2012                   2.484821e+10\n\n[8604 rows x 5 columns]",
      "text/html": "<div>\n<style scoped>\n    .dataframe tbody tr th:only-of-type {\n        vertical-align: middle;\n    }\n\n    .dataframe tbody tr th {\n        vertical-align: top;\n    }\n\n    .dataframe thead th {\n        text-align: right;\n    }\n</style>\n<table border=\"1\" class=\"dataframe\">\n  <thead>\n    <tr style=\"text-align: right;\">\n      <th></th>\n      <th>index</th>\n      <th>CountryID</th>\n      <th>Country</th>\n      <th>Year</th>\n      <th>Gross Domestic Product (GDP)</th>\n    </tr>\n  </thead>\n  <tbody>\n    <tr>\n      <th>0</th>\n      <td>0</td>\n      <td>4</td>\n      <td>Afghanistan</td>\n      <td>1970</td>\n      <td>1.731436e+09</td>\n    </tr>\n    <tr>\n      <th>1</th>\n      <td>1</td>\n      <td>4</td>\n      <td>Afghanistan</td>\n      <td>1971</td>\n      <td>1.812838e+09</td>\n    </tr>\n    <tr>\n      <th>2</th>\n      <td>2</td>\n      <td>4</td>\n      <td>Afghanistan</td>\n      <td>1972</td>\n      <td>1.647900e+09</td>\n    </tr>\n    <tr>\n      <th>3</th>\n      <td>3</td>\n      <td>4</td>\n      <td>Afghanistan</td>\n      <td>1973</td>\n      <td>1.702716e+09</td>\n    </tr>\n    <tr>\n      <th>4</th>\n      <td>4</td>\n      <td>4</td>\n      <td>Afghanistan</td>\n      <td>1974</td>\n      <td>2.061729e+09</td>\n    </tr>\n    <tr>\n      <th>...</th>\n      <td>...</td>\n      <td>...</td>\n      <td>...</td>\n      <td>...</td>\n      <td>...</td>\n    </tr>\n    <tr>\n      <th>8599</th>\n      <td>10498</td>\n      <td>894</td>\n      <td>Zambia</td>\n      <td>2008</td>\n      <td>1.791105e+10</td>\n    </tr>\n    <tr>\n      <th>8600</th>\n      <td>10499</td>\n      <td>894</td>\n      <td>Zambia</td>\n      <td>2009</td>\n      <td>1.532830e+10</td>\n    </tr>\n    <tr>\n      <th>8601</th>\n      <td>10500</td>\n      <td>894</td>\n      <td>Zambia</td>\n      <td>2010</td>\n      <td>2.026540e+10</td>\n    </tr>\n    <tr>\n      <th>8602</th>\n      <td>10501</td>\n      <td>894</td>\n      <td>Zambia</td>\n      <td>2011</td>\n      <td>2.448759e+10</td>\n    </tr>\n    <tr>\n      <th>8603</th>\n      <td>10502</td>\n      <td>894</td>\n      <td>Zambia</td>\n      <td>2012</td>\n      <td>2.484821e+10</td>\n    </tr>\n  </tbody>\n</table>\n<p>8604 rows × 5 columns</p>\n</div>"
     },
     "execution_count": 216,
     "metadata": {},
     "output_type": "execute_result"
    }
   ],
   "source": [
    "global_economy_statistics = global_economy_statistics[global_economy_statistics['Country'].isin(countries_we_need)]\n",
    "global_economy_statistics.reset_index()"
   ],
   "metadata": {
    "collapsed": false,
    "ExecuteTime": {
     "end_time": "2024-01-04T13:11:01.953681Z",
     "start_time": "2024-01-04T13:11:01.943477Z"
    }
   },
   "id": "b8f3d0913c2ea2c0"
  },
  {
   "cell_type": "code",
   "execution_count": 217,
   "outputs": [
    {
     "data": {
      "text/plain": "       CountryID       Country  Year   Gross Domestic Product (GDP)  \\\n0               4  Afghanistan  1970                   1.731436e+09   \n1               4  Afghanistan  1971                   1.812838e+09   \n2               4  Afghanistan  1972                   1.647900e+09   \n3               4  Afghanistan  1973                   1.702716e+09   \n4               4  Afghanistan  1974                   2.061729e+09   \n...           ...          ...   ...                            ...   \n6727          894       Zambia  2008                   1.791105e+10   \n6728          894       Zambia  2009                   1.532830e+10   \n6729          894       Zambia  2010                   2.026540e+10   \n6730          894       Zambia  2011                   2.448759e+10   \n6731          894       Zambia  2012                   2.484821e+10   \n\n      Yearly Average Temperature  \n0                      18.936250  \n1                      14.823500  \n2                      12.547167  \n3                      14.235500  \n4                      13.316750  \n...                          ...  \n6727                   21.535833  \n6728                   21.670250  \n6729                   22.267500  \n6730                   21.771583  \n6731                   21.697750  \n\n[6732 rows x 5 columns]",
      "text/html": "<div>\n<style scoped>\n    .dataframe tbody tr th:only-of-type {\n        vertical-align: middle;\n    }\n\n    .dataframe tbody tr th {\n        vertical-align: top;\n    }\n\n    .dataframe thead th {\n        text-align: right;\n    }\n</style>\n<table border=\"1\" class=\"dataframe\">\n  <thead>\n    <tr style=\"text-align: right;\">\n      <th></th>\n      <th>CountryID</th>\n      <th>Country</th>\n      <th>Year</th>\n      <th>Gross Domestic Product (GDP)</th>\n      <th>Yearly Average Temperature</th>\n    </tr>\n  </thead>\n  <tbody>\n    <tr>\n      <th>0</th>\n      <td>4</td>\n      <td>Afghanistan</td>\n      <td>1970</td>\n      <td>1.731436e+09</td>\n      <td>18.936250</td>\n    </tr>\n    <tr>\n      <th>1</th>\n      <td>4</td>\n      <td>Afghanistan</td>\n      <td>1971</td>\n      <td>1.812838e+09</td>\n      <td>14.823500</td>\n    </tr>\n    <tr>\n      <th>2</th>\n      <td>4</td>\n      <td>Afghanistan</td>\n      <td>1972</td>\n      <td>1.647900e+09</td>\n      <td>12.547167</td>\n    </tr>\n    <tr>\n      <th>3</th>\n      <td>4</td>\n      <td>Afghanistan</td>\n      <td>1973</td>\n      <td>1.702716e+09</td>\n      <td>14.235500</td>\n    </tr>\n    <tr>\n      <th>4</th>\n      <td>4</td>\n      <td>Afghanistan</td>\n      <td>1974</td>\n      <td>2.061729e+09</td>\n      <td>13.316750</td>\n    </tr>\n    <tr>\n      <th>...</th>\n      <td>...</td>\n      <td>...</td>\n      <td>...</td>\n      <td>...</td>\n      <td>...</td>\n    </tr>\n    <tr>\n      <th>6727</th>\n      <td>894</td>\n      <td>Zambia</td>\n      <td>2008</td>\n      <td>1.791105e+10</td>\n      <td>21.535833</td>\n    </tr>\n    <tr>\n      <th>6728</th>\n      <td>894</td>\n      <td>Zambia</td>\n      <td>2009</td>\n      <td>1.532830e+10</td>\n      <td>21.670250</td>\n    </tr>\n    <tr>\n      <th>6729</th>\n      <td>894</td>\n      <td>Zambia</td>\n      <td>2010</td>\n      <td>2.026540e+10</td>\n      <td>22.267500</td>\n    </tr>\n    <tr>\n      <th>6730</th>\n      <td>894</td>\n      <td>Zambia</td>\n      <td>2011</td>\n      <td>2.448759e+10</td>\n      <td>21.771583</td>\n    </tr>\n    <tr>\n      <th>6731</th>\n      <td>894</td>\n      <td>Zambia</td>\n      <td>2012</td>\n      <td>2.484821e+10</td>\n      <td>21.697750</td>\n    </tr>\n  </tbody>\n</table>\n<p>6732 rows × 5 columns</p>\n</div>"
     },
     "execution_count": 217,
     "metadata": {},
     "output_type": "execute_result"
    }
   ],
   "source": [
    "economy_and_temperature_statistics = pd.merge(global_economy_statistics, refined_global_temperature_statistics, on=['Year', 'Country'])\n",
    "economy_and_temperature_statistics"
   ],
   "metadata": {
    "collapsed": false,
    "ExecuteTime": {
     "end_time": "2024-01-04T13:11:01.983147Z",
     "start_time": "2024-01-04T13:11:01.950009Z"
    }
   },
   "id": "29b517de6ec3da1b"
  },
  {
   "cell_type": "code",
   "execution_count": 217,
   "outputs": [],
   "source": [],
   "metadata": {
    "collapsed": false,
    "ExecuteTime": {
     "end_time": "2024-01-04T13:11:01.983225Z",
     "start_time": "2024-01-04T13:11:01.956878Z"
    }
   },
   "id": "896ae29f17b311ef"
  }
 ],
 "metadata": {
  "kernelspec": {
   "display_name": "Python 3",
   "language": "python",
   "name": "python3"
  },
  "language_info": {
   "codemirror_mode": {
    "name": "ipython",
    "version": 2
   },
   "file_extension": ".py",
   "mimetype": "text/x-python",
   "name": "python",
   "nbconvert_exporter": "python",
   "pygments_lexer": "ipython2",
   "version": "2.7.6"
  }
 },
 "nbformat": 4,
 "nbformat_minor": 5
}
