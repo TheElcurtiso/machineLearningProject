{
 "cells": [
  {
   "cell_type": "code",
   "execution_count": 271,
   "id": "2786cc9f0ff7fa63",
   "metadata": {
    "collapsed": true,
    "ExecuteTime": {
     "end_time": "2024-01-02T19:06:24.852758Z",
     "start_time": "2024-01-02T19:06:24.823316Z"
    }
   },
   "outputs": [],
   "source": [
    "import os\n",
    "from six.moves import urllib\n",
    "# statistic csv file links\n",
    "DOWNLOAD_CRIME_STATISTICS = \"https://drive.google.com/u/0/uc?id=14s-VM_QxBf2lxLAElazVrmHKXoocR04R&export=download\"\n",
    "DOWNLOAD_EDUCATION_STATISTICS = \"https://drive.google.com/u/0/uc?id=1-1KTG-t7F5aKPzre9zk00feRKDoF3Wry&export=download\""
   ]
  },
  {
   "cell_type": "code",
   "execution_count": 272,
   "outputs": [],
   "source": [
    "# define the file path and make sure it exists\n",
    "STATISTICS_PATH = os.path.join(\"datasets\", \"UK Census\")\n",
    "if not os.path.isdir(STATISTICS_PATH):\n",
    "  os.makedirs(STATISTICS_PATH)"
   ],
   "metadata": {
    "collapsed": false,
    "ExecuteTime": {
     "end_time": "2024-01-02T19:06:24.853255Z",
     "start_time": "2024-01-02T19:06:24.827414Z"
    }
   },
   "id": "b204e6a2f228cead"
  },
  {
   "cell_type": "code",
   "execution_count": 273,
   "outputs": [],
   "source": [
    "# remove any files in the directory (if the directory existed before)\n",
    "for filename in os.listdir(STATISTICS_PATH):\n",
    "  os.remove(os.path.join(STATISTICS_PATH, filename))"
   ],
   "metadata": {
    "collapsed": false,
    "ExecuteTime": {
     "end_time": "2024-01-02T19:06:24.853326Z",
     "start_time": "2024-01-02T19:06:24.830334Z"
    }
   },
   "id": "717a6e442b0cda90"
  },
  {
   "cell_type": "code",
   "execution_count": 274,
   "outputs": [
    {
     "name": "stdout",
     "output_type": "stream",
     "text": [
      "Successfully downloaded:  CrimeByTownUk.csv\n",
      "Successfully downloaded:  EducationQualityByAreaOfstedReport.csv\n"
     ]
    }
   ],
   "source": [
    "# download the files from drive\n",
    "crime_file_name = \"CrimeByTownUk.csv\"\n",
    "education_file_name = \"EducationQualityByAreaOfstedReport.csv\"\n",
    "\n",
    "crime_path = os.path.join(STATISTICS_PATH, crime_file_name)\n",
    "education_path = os.path.join(STATISTICS_PATH, education_file_name)\n",
    "urllib.request.urlretrieve(DOWNLOAD_CRIME_STATISTICS, crime_path)\n",
    "print(\"Successfully downloaded: \", crime_file_name)\n",
    "urllib.request.urlretrieve(DOWNLOAD_EDUCATION_STATISTICS, education_path)\n",
    "print(\"Successfully downloaded: \", education_file_name)\n",
    "     "
   ],
   "metadata": {
    "collapsed": false,
    "ExecuteTime": {
     "end_time": "2024-01-02T19:06:27.724927Z",
     "start_time": "2024-01-02T19:06:24.839715Z"
    }
   },
   "id": "initial_id"
  },
  {
   "cell_type": "code",
   "execution_count": 275,
   "outputs": [],
   "source": [
    "import pandas as pd\n",
    "# reading in the csv\n",
    "crime_statistics = pd.read_csv(\"datasets/UK Census/CrimeByTownUk.csv\")\n",
    "education_statistics = pd.read_csv(\"datasets/UK Census/EducationQualityByAreaOfstedReport.csv\")"
   ],
   "metadata": {
    "collapsed": false,
    "ExecuteTime": {
     "end_time": "2024-01-02T19:06:27.780625Z",
     "start_time": "2024-01-02T19:06:27.723519Z"
    }
   },
   "id": "79038579cb8904fb"
  },
  {
   "cell_type": "code",
   "execution_count": 276,
   "outputs": [],
   "source": [
    "# rename the crime Local Authority name column to Local authority area so i can key the columns together \n",
    "crime_statistics.rename(columns={\"Local Authority\\n name\": \"Local authority area\"}, inplace=True)"
   ],
   "metadata": {
    "collapsed": false,
    "ExecuteTime": {
     "end_time": "2024-01-02T19:06:27.784632Z",
     "start_time": "2024-01-02T19:06:27.780964Z"
    }
   },
   "id": "b995e0c8a9c719c0"
  },
  {
   "cell_type": "code",
   "execution_count": 277,
   "outputs": [],
   "source": [
    "# merge the two datasets together based on the area name\n",
    "merge_statistics = pd.merge(crime_statistics, education_statistics, on=\"Local authority area\")"
   ],
   "metadata": {
    "collapsed": false,
    "ExecuteTime": {
     "end_time": "2024-01-02T19:06:27.796575Z",
     "start_time": "2024-01-02T19:06:27.783924Z"
    }
   },
   "id": "66b9f278ef0aa0e4"
  },
  {
   "cell_type": "code",
   "execution_count": 278,
   "outputs": [],
   "source": [
    "# remove all rows with values that are null\n",
    "merge_statistics = merge_statistics[merge_statistics['Local authority area'].notna()]\n",
    "merge_statistics = merge_statistics[merge_statistics['Overall effectiveness'].notna()]\n",
    "merge_statistics = merge_statistics.drop(merge_statistics[merge_statistics['Total recorded crime\\n (excluding fraud)'] == '[x]'].index)"
   ],
   "metadata": {
    "collapsed": false,
    "ExecuteTime": {
     "end_time": "2024-01-02T19:06:27.814011Z",
     "start_time": "2024-01-02T19:06:27.796682Z"
    }
   },
   "id": "5c26b25b36720640"
  },
  {
   "cell_type": "code",
   "execution_count": 279,
   "outputs": [],
   "source": [
    "# remove columns that aren't needed\n",
    "merge_statistics = merge_statistics.drop(columns=['Police Force Area\\n code', 'Police Force Area\\n name', 'Community Safety\\n Partnership code', 'Community Safety\\n Partnership name', 'Local Authority\\n code', 'URN', 'Five-Year Ofsted Inspection Data publish date', 'Publication type', 'Remit', 'As at date', 'Published date', 'Government office region', 'Constituency', 'Postcode', 'Provider type', 'Provision type', 'Sector', 'Deprivation index', 'Outcomes in education and related learning activities', 'Health services', 'Local authority area', 'Name'], axis=1)"
   ],
   "metadata": {
    "collapsed": false,
    "ExecuteTime": {
     "end_time": "2024-01-02T19:06:27.819301Z",
     "start_time": "2024-01-02T19:06:27.814835Z"
    }
   },
   "id": "684107ed35fa6f93"
  },
  {
   "cell_type": "code",
   "execution_count": 280,
   "outputs": [],
   "source": [
    "# change the column data type because for some reason it doesn't recognise that I've done that already\n",
    "merge_statistics['Total recorded crime\\n (excluding fraud)'] = merge_statistics['Total recorded crime\\n (excluding fraud)'].astype(\"float64\")\n",
    "merge_statistics['Violence against\\n the person'] = merge_statistics['Violence against\\n the person'].astype(\"float64\")\n",
    "merge_statistics['Criminal damage and arson'] = merge_statistics['Criminal damage and arson'].astype(\"float64\")\n",
    "merge_statistics['Public order offences'] = merge_statistics['Public order offences'].astype(\"float64\")"
   ],
   "metadata": {
    "collapsed": false,
    "ExecuteTime": {
     "end_time": "2024-01-02T19:06:27.824323Z",
     "start_time": "2024-01-02T19:06:27.822451Z"
    }
   },
   "id": "da317f2a771efbcc"
  },
  {
   "cell_type": "code",
   "execution_count": 281,
   "outputs": [],
   "source": [
    "# create additional column data based on the columns we have. It may be worth standardizing the total crime data because there are very dense pockets of data that only become apparent when you look at some of the columns we have below (or maybe just use these columns)\n",
    "merge_statistics[\"Violence per total crimes committed\"] = merge_statistics[\"Total recorded crime\\n (excluding fraud)\"]/merge_statistics[\"Violence against\\n the person\"]\n",
    "merge_statistics[\"Arson per total crimes committed\"] = merge_statistics[\"Total recorded crime\\n (excluding fraud)\"]/merge_statistics[\"Criminal damage and arson\"]\n",
    "merge_statistics[\"Public order offences per total crimes committed\"] = merge_statistics[\"Total recorded crime\\n (excluding fraud)\"]/merge_statistics[\"Public order offences\"]"
   ],
   "metadata": {
    "collapsed": false,
    "ExecuteTime": {
     "end_time": "2024-01-02T19:06:27.828545Z",
     "start_time": "2024-01-02T19:06:27.826163Z"
    }
   },
   "id": "a9a02723d516fb98"
  },
  {
   "cell_type": "code",
   "execution_count": 282,
   "outputs": [
    {
     "data": {
      "text/plain": "      Total recorded crime\\n (excluding fraud)  Violence against\\n the person  \\\n0                                      12826.0                         4752.0   \n1                                      12826.0                         4752.0   \n2                                      12826.0                         4752.0   \n3                                      12826.0                         4752.0   \n4                                      12826.0                         4752.0   \n...                                        ...                            ...   \n8971                                   26380.0                        11099.0   \n8972                                   26380.0                        11099.0   \n8973                                   26380.0                        11099.0   \n8974                                   26380.0                        11099.0   \n8975                                   26380.0                        11099.0   \n\n     Homicide Death or serious\\n injury caused by\\n illegal driving  \\\n0        1.00                                               0.00      \n1        1.00                                               0.00      \n2        1.00                                               0.00      \n3        1.00                                               0.00      \n4        1.00                                               0.00      \n...       ...                                                ...      \n8971     3.00                                               3.00      \n8972     3.00                                               3.00      \n8973     3.00                                               3.00      \n8974     3.00                                               3.00      \n8975     3.00                                               3.00      \n\n     Violence with injury Violence without injury Stalking and harassment  \\\n0                 1256.00                 1936.00                 1559.00   \n1                 1256.00                 1936.00                 1559.00   \n2                 1256.00                 1936.00                 1559.00   \n3                 1256.00                 1936.00                 1559.00   \n4                 1256.00                 1936.00                 1559.00   \n...                   ...                     ...                     ...   \n8971              3969.00                 4472.00                 2652.00   \n8972              3969.00                 4472.00                 2652.00   \n8973              3969.00                 4472.00                 2652.00   \n8974              3969.00                 4472.00                 2652.00   \n8975              3969.00                 4472.00                 2652.00   \n\n     Sexual offences Robbery Theft offences  ... Drug offences  \\\n0             471.00  124.00        3934.00  ...        227.00   \n1             471.00  124.00        3934.00  ...        227.00   \n2             471.00  124.00        3934.00  ...        227.00   \n3             471.00  124.00        3934.00  ...        227.00   \n4             471.00  124.00        3934.00  ...        227.00   \n...              ...     ...            ...  ...           ...   \n8971         1148.00  119.00        6747.00  ...        628.00   \n8972         1148.00  119.00        6747.00  ...        628.00   \n8973         1148.00  119.00        6747.00  ...        628.00   \n8974         1148.00  119.00        6747.00  ...        628.00   \n8975         1148.00  119.00        6747.00  ...        628.00   \n\n     Possession of weapons offences Public order offences  \\\n0                             45.00                1754.0   \n1                             45.00                1754.0   \n2                             45.00                1754.0   \n3                             45.00                1754.0   \n4                             45.00                1754.0   \n...                             ...                   ...   \n8971                         217.00                2426.0   \n8972                         217.00                2426.0   \n8973                         217.00                2426.0   \n8974                         217.00                2426.0   \n8975                         217.00                2426.0   \n\n     Miscellaneous crimes against society Overall effectiveness  \\\n0                                  208.00                   3.0   \n1                                  208.00                   3.0   \n2                                  208.00                   1.0   \n3                                  208.00                   4.0   \n4                                  208.00                   2.0   \n...                                   ...                   ...   \n8971                               463.00                   2.0   \n8972                               463.00                   2.0   \n8973                               463.00                   2.0   \n8974                               463.00                   2.0   \n8975                               463.00                   3.0   \n\n     How well children and young people are helped and protected  \\\n0                                                   3.0            \n1                                                   3.0            \n2                                                   2.0            \n3                                                   4.0            \n4                                                   3.0            \n...                                                 ...            \n8971                                                3.0            \n8972                                                2.0            \n8973                                                2.0            \n8974                                                2.0            \n8975                                                3.0            \n\n     The effectiveness of leaders and managers  \\\n0                                          3.0   \n1                                          3.0   \n2                                          1.0   \n3                                          4.0   \n4                                          2.0   \n...                                        ...   \n8971                                       2.0   \n8972                                       3.0   \n8973                                       2.0   \n8974                                       2.0   \n8975                                       3.0   \n\n     Violence per total crimes committed  Arson per total crimes committed  \\\n0                               2.699074                          9.783371   \n1                               2.699074                          9.783371   \n2                               2.699074                          9.783371   \n3                               2.699074                          9.783371   \n4                               2.699074                          9.783371   \n...                                  ...                               ...   \n8971                            2.376791                          7.466742   \n8972                            2.376791                          7.466742   \n8973                            2.376791                          7.466742   \n8974                            2.376791                          7.466742   \n8975                            2.376791                          7.466742   \n\n     Public order offences per total crimes committed  \n0                                            7.312429  \n1                                            7.312429  \n2                                            7.312429  \n3                                            7.312429  \n4                                            7.312429  \n...                                               ...  \n8971                                        10.873866  \n8972                                        10.873866  \n8973                                        10.873866  \n8974                                        10.873866  \n8975                                        10.873866  \n\n[7970 rows x 29 columns]",
      "text/html": "<div>\n<style scoped>\n    .dataframe tbody tr th:only-of-type {\n        vertical-align: middle;\n    }\n\n    .dataframe tbody tr th {\n        vertical-align: top;\n    }\n\n    .dataframe thead th {\n        text-align: right;\n    }\n</style>\n<table border=\"1\" class=\"dataframe\">\n  <thead>\n    <tr style=\"text-align: right;\">\n      <th></th>\n      <th>Total recorded crime\\n (excluding fraud)</th>\n      <th>Violence against\\n the person</th>\n      <th>Homicide</th>\n      <th>Death or serious\\n injury caused by\\n illegal driving</th>\n      <th>Violence with injury</th>\n      <th>Violence without injury</th>\n      <th>Stalking and harassment</th>\n      <th>Sexual offences</th>\n      <th>Robbery</th>\n      <th>Theft offences</th>\n      <th>...</th>\n      <th>Drug offences</th>\n      <th>Possession of weapons offences</th>\n      <th>Public order offences</th>\n      <th>Miscellaneous crimes against society</th>\n      <th>Overall effectiveness</th>\n      <th>How well children and young people are helped and protected</th>\n      <th>The effectiveness of leaders and managers</th>\n      <th>Violence per total crimes committed</th>\n      <th>Arson per total crimes committed</th>\n      <th>Public order offences per total crimes committed</th>\n    </tr>\n  </thead>\n  <tbody>\n    <tr>\n      <th>0</th>\n      <td>12826.0</td>\n      <td>4752.0</td>\n      <td>1.00</td>\n      <td>0.00</td>\n      <td>1256.00</td>\n      <td>1936.00</td>\n      <td>1559.00</td>\n      <td>471.00</td>\n      <td>124.00</td>\n      <td>3934.00</td>\n      <td>...</td>\n      <td>227.00</td>\n      <td>45.00</td>\n      <td>1754.0</td>\n      <td>208.00</td>\n      <td>3.0</td>\n      <td>3.0</td>\n      <td>3.0</td>\n      <td>2.699074</td>\n      <td>9.783371</td>\n      <td>7.312429</td>\n    </tr>\n    <tr>\n      <th>1</th>\n      <td>12826.0</td>\n      <td>4752.0</td>\n      <td>1.00</td>\n      <td>0.00</td>\n      <td>1256.00</td>\n      <td>1936.00</td>\n      <td>1559.00</td>\n      <td>471.00</td>\n      <td>124.00</td>\n      <td>3934.00</td>\n      <td>...</td>\n      <td>227.00</td>\n      <td>45.00</td>\n      <td>1754.0</td>\n      <td>208.00</td>\n      <td>3.0</td>\n      <td>3.0</td>\n      <td>3.0</td>\n      <td>2.699074</td>\n      <td>9.783371</td>\n      <td>7.312429</td>\n    </tr>\n    <tr>\n      <th>2</th>\n      <td>12826.0</td>\n      <td>4752.0</td>\n      <td>1.00</td>\n      <td>0.00</td>\n      <td>1256.00</td>\n      <td>1936.00</td>\n      <td>1559.00</td>\n      <td>471.00</td>\n      <td>124.00</td>\n      <td>3934.00</td>\n      <td>...</td>\n      <td>227.00</td>\n      <td>45.00</td>\n      <td>1754.0</td>\n      <td>208.00</td>\n      <td>1.0</td>\n      <td>2.0</td>\n      <td>1.0</td>\n      <td>2.699074</td>\n      <td>9.783371</td>\n      <td>7.312429</td>\n    </tr>\n    <tr>\n      <th>3</th>\n      <td>12826.0</td>\n      <td>4752.0</td>\n      <td>1.00</td>\n      <td>0.00</td>\n      <td>1256.00</td>\n      <td>1936.00</td>\n      <td>1559.00</td>\n      <td>471.00</td>\n      <td>124.00</td>\n      <td>3934.00</td>\n      <td>...</td>\n      <td>227.00</td>\n      <td>45.00</td>\n      <td>1754.0</td>\n      <td>208.00</td>\n      <td>4.0</td>\n      <td>4.0</td>\n      <td>4.0</td>\n      <td>2.699074</td>\n      <td>9.783371</td>\n      <td>7.312429</td>\n    </tr>\n    <tr>\n      <th>4</th>\n      <td>12826.0</td>\n      <td>4752.0</td>\n      <td>1.00</td>\n      <td>0.00</td>\n      <td>1256.00</td>\n      <td>1936.00</td>\n      <td>1559.00</td>\n      <td>471.00</td>\n      <td>124.00</td>\n      <td>3934.00</td>\n      <td>...</td>\n      <td>227.00</td>\n      <td>45.00</td>\n      <td>1754.0</td>\n      <td>208.00</td>\n      <td>2.0</td>\n      <td>3.0</td>\n      <td>2.0</td>\n      <td>2.699074</td>\n      <td>9.783371</td>\n      <td>7.312429</td>\n    </tr>\n    <tr>\n      <th>...</th>\n      <td>...</td>\n      <td>...</td>\n      <td>...</td>\n      <td>...</td>\n      <td>...</td>\n      <td>...</td>\n      <td>...</td>\n      <td>...</td>\n      <td>...</td>\n      <td>...</td>\n      <td>...</td>\n      <td>...</td>\n      <td>...</td>\n      <td>...</td>\n      <td>...</td>\n      <td>...</td>\n      <td>...</td>\n      <td>...</td>\n      <td>...</td>\n      <td>...</td>\n      <td>...</td>\n    </tr>\n    <tr>\n      <th>8971</th>\n      <td>26380.0</td>\n      <td>11099.0</td>\n      <td>3.00</td>\n      <td>3.00</td>\n      <td>3969.00</td>\n      <td>4472.00</td>\n      <td>2652.00</td>\n      <td>1148.00</td>\n      <td>119.00</td>\n      <td>6747.00</td>\n      <td>...</td>\n      <td>628.00</td>\n      <td>217.00</td>\n      <td>2426.0</td>\n      <td>463.00</td>\n      <td>2.0</td>\n      <td>3.0</td>\n      <td>2.0</td>\n      <td>2.376791</td>\n      <td>7.466742</td>\n      <td>10.873866</td>\n    </tr>\n    <tr>\n      <th>8972</th>\n      <td>26380.0</td>\n      <td>11099.0</td>\n      <td>3.00</td>\n      <td>3.00</td>\n      <td>3969.00</td>\n      <td>4472.00</td>\n      <td>2652.00</td>\n      <td>1148.00</td>\n      <td>119.00</td>\n      <td>6747.00</td>\n      <td>...</td>\n      <td>628.00</td>\n      <td>217.00</td>\n      <td>2426.0</td>\n      <td>463.00</td>\n      <td>2.0</td>\n      <td>2.0</td>\n      <td>3.0</td>\n      <td>2.376791</td>\n      <td>7.466742</td>\n      <td>10.873866</td>\n    </tr>\n    <tr>\n      <th>8973</th>\n      <td>26380.0</td>\n      <td>11099.0</td>\n      <td>3.00</td>\n      <td>3.00</td>\n      <td>3969.00</td>\n      <td>4472.00</td>\n      <td>2652.00</td>\n      <td>1148.00</td>\n      <td>119.00</td>\n      <td>6747.00</td>\n      <td>...</td>\n      <td>628.00</td>\n      <td>217.00</td>\n      <td>2426.0</td>\n      <td>463.00</td>\n      <td>2.0</td>\n      <td>2.0</td>\n      <td>2.0</td>\n      <td>2.376791</td>\n      <td>7.466742</td>\n      <td>10.873866</td>\n    </tr>\n    <tr>\n      <th>8974</th>\n      <td>26380.0</td>\n      <td>11099.0</td>\n      <td>3.00</td>\n      <td>3.00</td>\n      <td>3969.00</td>\n      <td>4472.00</td>\n      <td>2652.00</td>\n      <td>1148.00</td>\n      <td>119.00</td>\n      <td>6747.00</td>\n      <td>...</td>\n      <td>628.00</td>\n      <td>217.00</td>\n      <td>2426.0</td>\n      <td>463.00</td>\n      <td>2.0</td>\n      <td>2.0</td>\n      <td>2.0</td>\n      <td>2.376791</td>\n      <td>7.466742</td>\n      <td>10.873866</td>\n    </tr>\n    <tr>\n      <th>8975</th>\n      <td>26380.0</td>\n      <td>11099.0</td>\n      <td>3.00</td>\n      <td>3.00</td>\n      <td>3969.00</td>\n      <td>4472.00</td>\n      <td>2652.00</td>\n      <td>1148.00</td>\n      <td>119.00</td>\n      <td>6747.00</td>\n      <td>...</td>\n      <td>628.00</td>\n      <td>217.00</td>\n      <td>2426.0</td>\n      <td>463.00</td>\n      <td>3.0</td>\n      <td>3.0</td>\n      <td>3.0</td>\n      <td>2.376791</td>\n      <td>7.466742</td>\n      <td>10.873866</td>\n    </tr>\n  </tbody>\n</table>\n<p>7970 rows × 29 columns</p>\n</div>"
     },
     "execution_count": 282,
     "metadata": {},
     "output_type": "execute_result"
    }
   ],
   "source": [
    "merge_statistics"
   ],
   "metadata": {
    "collapsed": false,
    "ExecuteTime": {
     "end_time": "2024-01-02T19:06:27.845163Z",
     "start_time": "2024-01-02T19:06:27.830840Z"
    }
   },
   "id": "43eb5fea1e9df2d5"
  },
  {
   "cell_type": "code",
   "execution_count": 283,
   "outputs": [
    {
     "data": {
      "text/plain": "Overall effectiveness                                          1.000000\nHow well children and young people are helped and protected    0.829287\nThe effectiveness of leaders and managers                      0.797380\nVehicle offences                                               0.087105\nPossession of weapons offences                                 0.086721\nViolence without injury                                        0.084705\nRobbery                                                        0.083405\nHomicide                                                       0.082970\nViolence against\\n the person                                  0.080567\nStalking and harassment                                        0.077641\nViolence with injury                                           0.075592\nSexual offences                                                0.074338\nTotal recorded crime\\n (excluding fraud)                       0.073886\nResidential burglary                                           0.072754\nBurglary                                                       0.072025\nNon-residential burglary                                       0.067835\nCriminal damage and arson                                      0.066245\nTheft offences                                                 0.064917\nPublic order offences                                          0.057807\nDrug offences                                                  0.055408\nAll other theft offences                                       0.052957\nMiscellaneous crimes against society                           0.049346\nShoplifting                                                    0.042522\nTheft from the person                                          0.024209\nDeath or serious\\n injury caused by\\n illegal driving          0.018547\nArson per total crimes committed                               0.013377\nPublic order offences per total crimes committed               0.012561\nBicycle theft                                                 -0.001948\nViolence per total crimes committed                           -0.056800\nName: Overall effectiveness, dtype: float64"
     },
     "execution_count": 283,
     "metadata": {},
     "output_type": "execute_result"
    }
   ],
   "source": [
    "# see if there is a correlation between crime stats and education stats\n",
    "corr_matrix = merge_statistics.corr()\n",
    "corr_matrix[\"Overall effectiveness\"].sort_values(ascending=False)"
   ],
   "metadata": {
    "collapsed": false,
    "ExecuteTime": {
     "end_time": "2024-01-02T19:06:27.865290Z",
     "start_time": "2024-01-02T19:06:27.850212Z"
    }
   },
   "id": "c351be717edee361"
  },
  {
   "cell_type": "code",
   "execution_count": 284,
   "outputs": [
    {
     "data": {
      "text/plain": "<Axes: xlabel='Overall effectiveness', ylabel='Violence per total crimes committed'>"
     },
     "execution_count": 284,
     "metadata": {},
     "output_type": "execute_result"
    },
    {
     "data": {
      "text/plain": "<Figure size 640x480 with 1 Axes>",
      "image/png": "[encoded data removed]"
     },
     "metadata": {},
     "output_type": "display_data"
    }
   ],
   "source": [
    "merge_statistics.plot(kind=\"scatter\", x=\"Overall effectiveness\", y=\"Violence per total crimes committed\",\n",
    " alpha=0.1)"
   ],
   "metadata": {
    "collapsed": false,
    "ExecuteTime": {
     "end_time": "2024-01-02T19:06:27.956733Z",
     "start_time": "2024-01-02T19:06:27.867238Z"
    }
   },
   "id": "4ada08efa4785d1a"
  },
  {
   "cell_type": "code",
   "execution_count": 284,
   "outputs": [],
   "source": [],
   "metadata": {
    "collapsed": false,
    "ExecuteTime": {
     "end_time": "2024-01-02T19:06:27.957549Z",
     "start_time": "2024-01-02T19:06:27.955889Z"
    }
   },
   "id": "7e7e1ff0f15cdf89"
  }
 ],
 "metadata": {
  "kernelspec": {
   "display_name": "Python 3",
   "language": "python",
   "name": "python3"
  },
  "language_info": {
   "codemirror_mode": {
    "name": "ipython",
    "version": 2
   },
   "file_extension": ".py",
   "mimetype": "text/x-python",
   "name": "python",
   "nbconvert_exporter": "python",
   "pygments_lexer": "ipython2",
   "version": "2.7.6"
  }
 },
 "nbformat": 4,
 "nbformat_minor": 5
}
